{
  "nbformat": 4,
  "nbformat_minor": 0,
  "metadata": {
    "colab": {
      "name": "NLP with Reuters.ipynb",
      "provenance": [],
      "authorship_tag": "ABX9TyMY8LeCK64ktTyGV7H18Fq3",
      "include_colab_link": true
    },
    "kernelspec": {
      "name": "python3",
      "display_name": "Python 3"
    },
    "language_info": {
      "name": "python"
    }
  },
  "cells": [
    {
      "cell_type": "markdown",
      "metadata": {
        "id": "view-in-github",
        "colab_type": "text"
      },
      "source": [
        "<a href=\"https://colab.research.google.com/github/drozzel/Portfolio/blob/main/Machine%20Learning/NLP_with_Reuters.ipynb\" target=\"_parent\"><img src=\"https://colab.research.google.com/assets/colab-badge.svg\" alt=\"Open In Colab\"/></a>"
      ]
    },
    {
      "cell_type": "markdown",
      "metadata": {
        "id": "S5G8QjRP1JVc"
      },
      "source": [
        "Reuters Dataset\n",
        "\n",
        "The Reuters Dataset is another well-known machine learning dataset. The dataset consists of text from the Reuters newswire in 1987. We will use a subset of the data that contain texts from eight topics:\n",
        "\n",
        "\n",
        "\n",
        "Class | \t# train docs |\t# test docs\t| Total # docs\n",
        ":--- | --: | --: | --:\n",
        "acq |\t1596\t| 696\t| 2292\n",
        "crude | \t253 | \t121 |\t374\n",
        "earn\t| 2840\t| 1083\t| 3923\n",
        "grain\t|41 | \t10 | \t51\n",
        "interest | \t190\t| 81\t| 271\n",
        "money-fx\t| 206\t| 87\t| 293\n",
        "ship\t| 108\t| 36\t| 144\n",
        "trade\t| 251\t| 75\t| 326\n",
        "Total\t| 5485 |\t2189\t| 7674\n",
        "\n",
        "The training dataset is http://zacharski.org/files/courses/cs419/r8-train-all-terms.txt\n",
        "\n",
        "The test dataset is http://zacharski.org/files/courses/cs419/r8-test-all-terms.txt\n",
        "\n",
        "Can you build a network that will classify texts into one of 8 categories?\n"
      ]
    },
    {
      "cell_type": "markdown",
      "metadata": {
        "id": "vdwCspK_1TXl"
      },
      "source": [
        "#Notebook Summary\n",
        "## Natural Language Processing Project\n",
        "This notebook is based on the assignment given to me in my Machine Learning class. \n",
        "Here we were given a subset of the Reuters Dataset and were told to create a network to classify 8 categories. The original dataset contains 46 different categories.\n",
        "\n",
        "### Original Assignment - 8 Category Reuters Dataset\n",
        "1. Import the necessary libraries\n",
        "2. Read in the dataset\n",
        "3. Clean and organize the data\n",
        "4. Create the tokenizer/ One hot encode labels\n",
        "5. Create and fit the network\n",
        "6. Plot the accuracy/loss chart\n",
        "7. Evaluate the network against the test data"
      ]
    },
    {
      "cell_type": "markdown",
      "metadata": {
        "id": "yw7yWWlw3fz1"
      },
      "source": [
        "# 1. Import the Necessary Libraries"
      ]
    },
    {
      "cell_type": "code",
      "metadata": {
        "id": "tvoiJ_jF1Igx"
      },
      "source": [
        "#data reading\n",
        "import pandas as pd\n",
        "\n",
        "#One hot encoding/model creation\n",
        "from keras.preprocessing.text import Tokenizer\n",
        "import keras\n",
        "from tensorflow.keras import optimizers\n",
        "from keras import models\n",
        "from keras import layers\n",
        "\n",
        "#data visualization\n",
        "import matplotlib.pyplot as plt"
      ],
      "execution_count": null,
      "outputs": []
    },
    {
      "cell_type": "markdown",
      "metadata": {
        "id": "FU51-xvA4J8T"
      },
      "source": [
        "# 2. Read in the Dataset"
      ]
    },
    {
      "cell_type": "code",
      "metadata": {
        "colab": {
          "base_uri": "https://localhost:8080/"
        },
        "id": "_qqdnUsF6A8r",
        "outputId": "dc30d212-6646-43bc-866f-ad94e6ae1840"
      },
      "source": [
        "#Obtain the files\n",
        "!wget http://zacharski.org/files/courses/cs419/r8-train-all-terms.txt\n",
        "!wget http://zacharski.org/files/courses/cs419/r8-test-all-terms.txt\n",
        "!ls"
      ],
      "execution_count": null,
      "outputs": [
        {
          "output_type": "stream",
          "name": "stdout",
          "text": [
            "--2021-10-17 18:43:46--  http://zacharski.org/files/courses/cs419/r8-train-all-terms.txt\n",
            "Resolving zacharski.org (zacharski.org)... 198.199.65.227\n",
            "Connecting to zacharski.org (zacharski.org)|198.199.65.227|:80... connected.\n",
            "HTTP request sent, awaiting response... 200 OK\n",
            "Length: 3354435 (3.2M) [text/plain]\n",
            "Saving to: ‘r8-train-all-terms.txt.1’\n",
            "\n",
            "r8-train-all-terms. 100%[===================>]   3.20M  20.8MB/s    in 0.2s    \n",
            "\n",
            "2021-10-17 18:43:46 (20.8 MB/s) - ‘r8-train-all-terms.txt.1’ saved [3354435/3354435]\n",
            "\n",
            "--2021-10-17 18:43:46--  http://zacharski.org/files/courses/cs419/r8-test-all-terms.txt\n",
            "Resolving zacharski.org (zacharski.org)... 198.199.65.227\n",
            "Connecting to zacharski.org (zacharski.org)|198.199.65.227|:80... connected.\n",
            "HTTP request sent, awaiting response... 200 OK\n",
            "Length: 1195272 (1.1M) [text/plain]\n",
            "Saving to: ‘r8-test-all-terms.txt.1’\n",
            "\n",
            "r8-test-all-terms.t 100%[===================>]   1.14M  --.-KB/s    in 0.1s    \n",
            "\n",
            "2021-10-17 18:43:46 (10.4 MB/s) - ‘r8-test-all-terms.txt.1’ saved [1195272/1195272]\n",
            "\n",
            "r8-test-all-terms.txt\t r8-train-all-terms.txt    sample_data\n",
            "r8-test-all-terms.txt.1  r8-train-all-terms.txt.1\n"
          ]
        }
      ]
    },
    {
      "cell_type": "code",
      "metadata": {
        "id": "gvC3tJUiCppb"
      },
      "source": [
        "#Read in the files\n",
        "r8train = pd.read_csv('r8-train-all-terms.txt', sep='\\t')\n",
        "r8test = pd.read_csv('r8-test-all-terms.txt', sep='\\t')"
      ],
      "execution_count": null,
      "outputs": []
    },
    {
      "cell_type": "markdown",
      "metadata": {
        "id": "54yniNQm4bUN"
      },
      "source": [
        "# 3. Clean and Organize the Data\n",
        "Since this a commonly used dataset there is no cleaning to be done however we will look at the dataset to see the columns upon which we split for the labels and features for our network.\n"
      ]
    },
    {
      "cell_type": "code",
      "metadata": {
        "colab": {
          "base_uri": "https://localhost:8080/"
        },
        "id": "XiUpkYIo4uce",
        "outputId": "fb787a37-16fb-43cf-ec2a-220ba41f0505"
      },
      "source": [
        "#Get a view of the dataset\n",
        "print(r8train.head())\n",
        "\n",
        "#Create Labels and Text\n",
        "r8train_labels = r8train['class']\n",
        "r8train_text = r8train.text\n",
        "r8test_labels = r8test['class']\n",
        "r8test_text = r8test.text\n"
      ],
      "execution_count": null,
      "outputs": [
        {
          "output_type": "stream",
          "name": "stdout",
          "text": [
            "  class                                               text\n",
            "0  earn  champion products ch approves stock split cham...\n",
            "1   acq  computer terminal systems cpml completes sale ...\n",
            "2  earn  cobanco inc cbco year net shr cts vs dlrs net ...\n",
            "3  earn  am international inc am nd qtr jan oper shr lo...\n",
            "4  earn  brown forman inc bfd th qtr net shr one dlr vs...\n"
          ]
        }
      ]
    },
    {
      "cell_type": "code",
      "metadata": {
        "colab": {
          "base_uri": "https://localhost:8080/"
        },
        "id": "SBEM6UW1Xil7",
        "outputId": "e2b2da05-a459-4230-94a9-34e143109b6c"
      },
      "source": [
        "#Get an overview of the number of samples\n",
        "print('# of Training Samples: {}'.format(len(r8train_text)))\n",
        "print('# of Test Samples: {}'.format(len(r8test_text)))\n",
        "\n",
        "num_classes= len(r8train_labels.unique())\n",
        "print('# of Classes: {}'.format(num_classes))"
      ],
      "execution_count": null,
      "outputs": [
        {
          "output_type": "stream",
          "name": "stdout",
          "text": [
            "# of Training Samples: 5485\n",
            "# of Test Samples: 2189\n",
            "# of Classes: 8\n"
          ]
        }
      ]
    },
    {
      "cell_type": "markdown",
      "metadata": {
        "id": "PlXcldGo49MZ"
      },
      "source": [
        "# 4. Create the Tokenizer/ One Hot Encode Labels\n",
        "In this step we utilized pandas get dummy functions to one hot encode the labels. This helps when training the model as it creates a numerical representation of the columns in a manner that does not create a bias of order such as 1,2,3. Instead it creates an array of 8 columns representing the features for each row in which the value of 1 is placed in the correct category and all other values are 0.\n"
      ]
    },
    {
      "cell_type": "code",
      "metadata": {
        "colab": {
          "base_uri": "https://localhost:8080/"
        },
        "id": "-DBIwx2k5xcW",
        "outputId": "50ffeae5-61d1-4029-e88a-789ca9c8f52f"
      },
      "source": [
        "#one hot encode categorical labels\n",
        "r8train_labels = pd.get_dummies(r8train_labels)\n",
        "r8test_labels = pd.get_dummies(r8test_labels)\n",
        "\n",
        "#get tokenizer for text\n",
        "max_words = 10000\n",
        "tokenizerTrain = Tokenizer(num_words=max_words)\n",
        "tokenizerTrain.fit_on_texts(r8train_text)\n",
        "tokenizerTest = Tokenizer(num_words=max_words)\n",
        "tokenizerTest.fit_on_texts(r8test_text)\n",
        "\n",
        "# Directly get the one-hot binary representations for test and train\n",
        "one_hot_train_results = tokenizerTrain.texts_to_matrix(r8train_text, mode='tfidf')\n",
        "one_hot_test_results = tokenizerTest.texts_to_matrix(r8test_text,mode = 'tfidf')\n",
        "\n",
        "#Take a peek\n",
        "print(one_hot_train_results[0])\n",
        "print(one_hot_train_results.shape)\n",
        "print(r8train_labels)"
      ],
      "execution_count": null,
      "outputs": [
        {
          "output_type": "stream",
          "name": "stdout",
          "text": [
            "[0.         2.1239325  2.16894167 ... 0.         0.         0.        ]\n",
            "(5485, 10000)\n",
            "      acq  crude  earn  grain  interest  money-fx  ship  trade\n",
            "0       0      0     1      0         0         0     0      0\n",
            "1       1      0     0      0         0         0     0      0\n",
            "2       0      0     1      0         0         0     0      0\n",
            "3       0      0     1      0         0         0     0      0\n",
            "4       0      0     1      0         0         0     0      0\n",
            "...   ...    ...   ...    ...       ...       ...   ...    ...\n",
            "5480    0      0     1      0         0         0     0      0\n",
            "5481    0      0     0      0         0         1     0      0\n",
            "5482    0      0     1      0         0         0     0      0\n",
            "5483    0      0     0      0         0         1     0      0\n",
            "5484    0      0     0      0         0         0     1      0\n",
            "\n",
            "[5485 rows x 8 columns]\n"
          ]
        }
      ]
    },
    {
      "cell_type": "markdown",
      "metadata": {
        "id": "XfvYpFm16hFt"
      },
      "source": [
        "#5.Create and Fit the Network\n",
        "Some important things to note since we are training our model to predict from a slew of categories and not simply is it black or white we will use 'softmax' in the final layer and our loss will be 'categorical_crossentropy'. The optimizer we will use is 'adam' as it often has better results than RMSprop when doing NLP."
      ]
    },
    {
      "cell_type": "code",
      "metadata": {
        "colab": {
          "base_uri": "https://localhost:8080/"
        },
        "id": "9ghyhw7h5Fui",
        "outputId": "173b2f52-0203-4887-bc46-659d6ad5af45"
      },
      "source": [
        "#build a model\n",
        "r8network = models.Sequential()\n",
        "r8network.add(layers.Dense(512, activation='relu', input_shape=(max_words,)))\n",
        "r8network.add(layers.Dropout(0.5))\n",
        "r8network.add(layers.Dense(8,activation ='softmax'))\n",
        "\n",
        "\n",
        "\n",
        "#compile the model\n",
        "r8network.compile(optimizer= 'adam',\n",
        "                loss='categorical_crossentropy',\n",
        "                metrics=['accuracy'])\n",
        "\n",
        "#fit the model\n",
        "r8history = r8network.fit(\n",
        "      one_hot_train_results, r8train_labels,\n",
        "      batch_size = 32,\n",
        "      epochs=20,\n",
        "      validation_split=0.3,\n",
        "      validation_steps=50)"
      ],
      "execution_count": null,
      "outputs": [
        {
          "output_type": "stream",
          "name": "stdout",
          "text": [
            "Epoch 1/20\n",
            "120/120 [==============================] - 5s 39ms/step - loss: 0.3445 - accuracy: 0.9146 - val_loss: 0.2104 - val_accuracy: 0.9506\n",
            "Epoch 2/20\n",
            "120/120 [==============================] - 4s 37ms/step - loss: 0.0232 - accuracy: 0.9953 - val_loss: 0.2046 - val_accuracy: 0.9525\n",
            "Epoch 3/20\n",
            "120/120 [==============================] - 4s 37ms/step - loss: 0.0087 - accuracy: 0.9982 - val_loss: 0.2130 - val_accuracy: 0.9513\n",
            "Epoch 4/20\n",
            "120/120 [==============================] - 4s 37ms/step - loss: 0.0048 - accuracy: 0.9984 - val_loss: 0.2239 - val_accuracy: 0.9506\n",
            "Epoch 5/20\n",
            "120/120 [==============================] - 4s 37ms/step - loss: 0.0039 - accuracy: 0.9987 - val_loss: 0.2425 - val_accuracy: 0.9525\n",
            "Epoch 6/20\n",
            "120/120 [==============================] - 4s 37ms/step - loss: 0.0034 - accuracy: 0.9984 - val_loss: 0.2356 - val_accuracy: 0.9494\n",
            "Epoch 7/20\n",
            "120/120 [==============================] - 4s 37ms/step - loss: 0.0030 - accuracy: 0.9995 - val_loss: 0.2575 - val_accuracy: 0.9481\n",
            "Epoch 8/20\n",
            "120/120 [==============================] - 4s 37ms/step - loss: 0.0035 - accuracy: 0.9990 - val_loss: 0.2577 - val_accuracy: 0.9500\n",
            "Epoch 9/20\n",
            "120/120 [==============================] - 4s 37ms/step - loss: 0.0050 - accuracy: 0.9984 - val_loss: 0.2565 - val_accuracy: 0.9469\n",
            "Epoch 10/20\n",
            "120/120 [==============================] - 4s 37ms/step - loss: 0.0017 - accuracy: 0.9992 - val_loss: 0.2743 - val_accuracy: 0.9500\n",
            "Epoch 11/20\n",
            "120/120 [==============================] - 4s 37ms/step - loss: 0.0026 - accuracy: 0.9990 - val_loss: 0.2731 - val_accuracy: 0.9488\n",
            "Epoch 12/20\n",
            "120/120 [==============================] - 4s 37ms/step - loss: 0.0029 - accuracy: 0.9987 - val_loss: 0.2961 - val_accuracy: 0.9481\n",
            "Epoch 13/20\n",
            "120/120 [==============================] - 4s 37ms/step - loss: 0.0041 - accuracy: 0.9995 - val_loss: 0.2886 - val_accuracy: 0.9463\n",
            "Epoch 14/20\n",
            "120/120 [==============================] - 4s 37ms/step - loss: 0.0019 - accuracy: 0.9990 - val_loss: 0.3148 - val_accuracy: 0.9469\n",
            "Epoch 15/20\n",
            "120/120 [==============================] - 4s 37ms/step - loss: 0.0039 - accuracy: 0.9987 - val_loss: 0.3169 - val_accuracy: 0.9438\n",
            "Epoch 16/20\n",
            "120/120 [==============================] - 4s 37ms/step - loss: 0.0048 - accuracy: 0.9987 - val_loss: 0.2920 - val_accuracy: 0.9444\n",
            "Epoch 17/20\n",
            "120/120 [==============================] - 4s 37ms/step - loss: 0.0082 - accuracy: 0.9979 - val_loss: 0.3001 - val_accuracy: 0.9444\n",
            "Epoch 18/20\n",
            "120/120 [==============================] - 4s 37ms/step - loss: 0.0016 - accuracy: 0.9992 - val_loss: 0.3266 - val_accuracy: 0.9413\n",
            "Epoch 19/20\n",
            "120/120 [==============================] - 4s 37ms/step - loss: 9.1735e-04 - accuracy: 0.9995 - val_loss: 0.3267 - val_accuracy: 0.9406\n",
            "Epoch 20/20\n",
            "120/120 [==============================] - 4s 37ms/step - loss: 0.0063 - accuracy: 0.9987 - val_loss: 0.3073 - val_accuracy: 0.9431\n"
          ]
        }
      ]
    },
    {
      "cell_type": "markdown",
      "metadata": {
        "id": "19ExecV67rqO"
      },
      "source": [
        "#6. Plot the Network Accuracy and Loss\n"
      ]
    },
    {
      "cell_type": "code",
      "metadata": {
        "colab": {
          "base_uri": "https://localhost:8080/",
          "height": 544
        },
        "id": "G2ZIkZwL7yYA",
        "outputId": "719ea885-d33a-41b9-a4d0-0c27826f794f"
      },
      "source": [
        "acc = r8history.history['accuracy']\n",
        "val_acc = r8history.history['val_accuracy']\n",
        "loss = r8history.history['loss']\n",
        "val_loss = r8history.history['val_loss']\n",
        "\n",
        "epochs = range(len(acc))\n",
        "\n",
        "plt.plot(epochs, acc, 'bo', label='Training acc')\n",
        "plt.plot(epochs, val_acc, 'b', label='Validation acc')\n",
        "plt.title('Training and validation accuracy')\n",
        "plt.legend()\n",
        "\n",
        "plt.figure()\n",
        "\n",
        "plt.plot(epochs, loss, 'bo', label='Training loss')\n",
        "plt.plot(epochs, val_loss, 'b', label='Validation loss')\n",
        "plt.title('Training and validation loss')\n",
        "plt.legend()\n",
        "\n",
        "plt.show()"
      ],
      "execution_count": null,
      "outputs": [
        {
          "output_type": "display_data",
          "data": {
            "image/png": "[encoded data removed]",
            "text/plain": [
              "<Figure size 432x288 with 1 Axes>"
            ]
          },
          "metadata": {
            "needs_background": "light"
          }
        },
        {
          "output_type": "display_data",
          "data": {
            "image/png": "[encoded data removed]",
            "text/plain": [
              "<Figure size 432x288 with 1 Axes>"
            ]
          },
          "metadata": {
            "needs_background": "light"
          }
        }
      ]
    },
    {
      "cell_type": "markdown",
      "metadata": {
        "id": "cHZ4ij4u73Sv"
      },
      "source": [
        "Here we can see that there is overfitting present in the model, as the training accuracy lies above the validation accuracy by a significant margin. While the training loss lies below the validation loss by a significant margin."
      ]
    },
    {
      "cell_type": "markdown",
      "metadata": {
        "id": "R39mGMkF8HwT"
      },
      "source": [
        "#7. Evaluate the Network Against the Test Data"
      ]
    },
    {
      "cell_type": "code",
      "metadata": {
        "colab": {
          "base_uri": "https://localhost:8080/"
        },
        "id": "q58IBSwy8CIg",
        "outputId": "96386af0-6216-44b5-a1a6-8100e4a8faf2"
      },
      "source": [
        "scoreSeg = r8network.evaluate(one_hot_test_results, r8test_labels)\n",
        "print(\"Accuracy: \", scoreSeg[1])"
      ],
      "execution_count": null,
      "outputs": [
        {
          "output_type": "stream",
          "name": "stdout",
          "text": [
            "69/69 [==============================] - 1s 12ms/step - loss: 6.7163 - accuracy: 0.3495\n",
            "Accuracy:  0.34947463870048523\n"
          ]
        }
      ]
    },
    {
      "cell_type": "markdown",
      "metadata": {
        "id": "S4RJndjiV405"
      },
      "source": [
        "Of course creating a model with such a low accuracy is not very satisfying. However, this was the extent of the assignment. This highlights that because of the small amount of data being utilized and trying to categorize into 8 categories we needed more data.\n",
        "\n",
        "In order for me to get a better understanding I created another model seperate from the assignment utilizing the full Reuters dataset.\n"
      ]
    },
    {
      "cell_type": "markdown",
      "metadata": {
        "id": "hR2yzyR-WUXx"
      },
      "source": [
        "#1. Import the Reuters Dataset from Keras\n",
        "Luckily Keras already has the Reuters dataset available we simply need to import it. When this is imported it is important to note that the text data comes in as a numerical index we can convert the indicies back to words with the get_word_index() function."
      ]
    },
    {
      "cell_type": "code",
      "metadata": {
        "id": "pRwsHLrySBAX"
      },
      "source": [
        "from keras.datasets import reuters\n",
        "import numpy as np\n",
        "(train_text, train_labels), (test_text, test_labels) = reuters.load_data(num_words=None, test_split= 0.2)\n",
        "word_index = reuters.get_word_index()"
      ],
      "execution_count": null,
      "outputs": []
    },
    {
      "cell_type": "markdown",
      "metadata": {
        "id": "DBjE48U9Wwhv"
      },
      "source": [
        "#2. View the Data\n",
        "Its important to get a basic overview of the data in order to create an effective model."
      ]
    },
    {
      "cell_type": "code",
      "metadata": {
        "colab": {
          "base_uri": "https://localhost:8080/"
        },
        "id": "02KZqbsRS2mq",
        "outputId": "00d3f58a-61db-44ee-9dda-19df609601ae"
      },
      "source": [
        "print('# of Training Samples: {}'.format(len(train_text)))\n",
        "print('# of Test Samples: {}'.format(len(test_text)))\n",
        "\n",
        "num_classes= len(np.unique(train_labels))\n",
        "print('# of Classes: {}'.format(num_classes))"
      ],
      "execution_count": null,
      "outputs": [
        {
          "output_type": "stream",
          "name": "stdout",
          "text": [
            "# of Training Samples: 8982\n",
            "# of Test Samples: 2246\n",
            "# of Classes: 46\n"
          ]
        }
      ]
    },
    {
      "cell_type": "markdown",
      "metadata": {
        "id": "yOK-_OyvZsy3"
      },
      "source": [
        "#3. Organize and Clean the Data\n",
        "\n",
        "As mentioned before the text data is stored as an index that correlates to their rank of frequency within the corpus, it looks like so.\n"
      ]
    },
    {
      "cell_type": "code",
      "metadata": {
        "colab": {
          "base_uri": "https://localhost:8080/"
        },
        "id": "93CqJiZYZVwN",
        "outputId": "b699f1b2-25d4-4743-944a-6821fb1aaa33"
      },
      "source": [
        "print(train_text[0])\n",
        "print(test_text[0])"
      ],
      "execution_count": null,
      "outputs": [
        {
          "output_type": "stream",
          "name": "stdout",
          "text": [
            "[1, 27595, 28842, 8, 43, 10, 447, 5, 25, 207, 270, 5, 3095, 111, 16, 369, 186, 90, 67, 7, 89, 5, 19, 102, 6, 19, 124, 15, 90, 67, 84, 22, 482, 26, 7, 48, 4, 49, 8, 864, 39, 209, 154, 6, 151, 6, 83, 11, 15, 22, 155, 11, 15, 7, 48, 9, 4579, 1005, 504, 6, 258, 6, 272, 11, 15, 22, 134, 44, 11, 15, 16, 8, 197, 1245, 90, 67, 52, 29, 209, 30, 32, 132, 6, 109, 15, 17, 12]\n",
            "[1, 4, 1378, 2025, 9, 697, 4622, 111, 8, 25, 109, 29, 3650, 11, 150, 244, 364, 33, 30, 30, 1398, 333, 6, 18292, 159, 9, 1084, 363, 13, 19231, 71, 9, 16273, 71, 117, 4, 225, 78, 206, 10, 9, 1214, 8, 4, 270, 5, 16273, 7, 748, 48, 9, 19231, 7, 207, 1451, 966, 1864, 793, 97, 133, 336, 7, 4, 493, 98, 273, 104, 284, 25, 39, 338, 22, 905, 220, 3465, 644, 59, 20, 6, 119, 61, 11, 15, 58, 579, 26, 10, 67, 7, 4, 738, 98, 43, 88, 333, 722, 12, 20, 6, 19, 746, 35, 15, 10, 9, 1214, 855, 129, 783, 21, 4, 2280, 244, 364, 51, 16, 299, 452, 16, 515, 4, 99, 29, 5, 4, 364, 281, 48, 10, 9, 1214, 23, 644, 47, 20, 324, 27, 56, 23406, 28185, 5, 192, 510, 17, 12]\n"
          ]
        }
      ]
    },
    {
      "cell_type": "markdown",
      "metadata": {
        "id": "OUFxIPmpaG5t"
      },
      "source": [
        "What we would like to do is convert these indicies back into words. This is done by flipping the values within the dictionary word_index."
      ]
    },
    {
      "cell_type": "code",
      "metadata": {
        "colab": {
          "base_uri": "https://localhost:8080/"
        },
        "id": "dJHdXEIIaGl1",
        "outputId": "eb34d00d-cc01-471a-b357-01b82c0c1059"
      },
      "source": [
        "#create an empty dictionary to fill with values\n",
        "index_to_word = {}\n",
        "\n",
        "#iterate through the word index and flip the key, value pair for the index_to_word dict\n",
        "for key, value in word_index.items():\n",
        "  #this line is taking the value or the word and making it the key and setting the given value as the key or index.\n",
        "  index_to_word[value] = key\n",
        "\n",
        "#Take word 1 and show.\n",
        "print(index_to_word[1])\n",
        "print(word_index['the'])"
      ],
      "execution_count": null,
      "outputs": [
        {
          "output_type": "stream",
          "name": "stdout",
          "text": [
            "the\n",
            "1\n"
          ]
        }
      ]
    },
    {
      "cell_type": "markdown",
      "metadata": {
        "id": "iTU1gG1Pcfaq"
      },
      "source": [
        "Now when given the index value it will return a word instead of giving it a word and receiving the index.\n"
      ]
    },
    {
      "cell_type": "markdown",
      "metadata": {
        "id": "YOlWOLaodfGc"
      },
      "source": [
        "#4.Create the Tokenizer/One-Hot-Encode the Labels"
      ]
    },
    {
      "cell_type": "code",
      "metadata": {
        "id": "RgEkaPzccWV4"
      },
      "source": [
        "#Create a new variable for max words, I used r46 to highlight this is the Reuters dataset with 46 categories.\n",
        "r46max_words = 10000\n",
        "\n",
        "tokenizer = Tokenizer(num_words=r46max_words)\n",
        "train_text = tokenizer.sequences_to_matrix(train_text, mode = 'binary')\n",
        "test_text = tokenizer.sequences_to_matrix(test_text, mode = 'binary')\n",
        "\n",
        "train_labels = pd.get_dummies(train_labels)\n",
        "test_labels = pd.get_dummies(test_labels)"
      ],
      "execution_count": null,
      "outputs": []
    },
    {
      "cell_type": "code",
      "metadata": {
        "colab": {
          "base_uri": "https://localhost:8080/"
        },
        "id": "R7m6Hl_Ve_Pz",
        "outputId": "1ad56d68-2ee4-4867-86fb-3775e39e8d72"
      },
      "source": [
        "#Take a peek\n",
        "print(train_text.shape)\n",
        "print(test_text.shape)\n",
        "\n",
        "print(train_labels.shape)\n",
        "print(train_labels[0])"
      ],
      "execution_count": null,
      "outputs": [
        {
          "output_type": "stream",
          "name": "stdout",
          "text": [
            "(8982, 10000)\n",
            "(2246, 10000)\n",
            "(8982, 46)\n",
            "0       0\n",
            "1       0\n",
            "2       0\n",
            "3       0\n",
            "4       0\n",
            "       ..\n",
            "8977    0\n",
            "8978    0\n",
            "8979    0\n",
            "8980    0\n",
            "8981    0\n",
            "Name: 0, Length: 8982, dtype: uint8\n"
          ]
        }
      ]
    },
    {
      "cell_type": "markdown",
      "metadata": {
        "id": "eLJ3zsq1j70W"
      },
      "source": [
        "#5.Build and Fit the Model"
      ]
    },
    {
      "cell_type": "code",
      "metadata": {
        "colab": {
          "base_uri": "https://localhost:8080/"
        },
        "id": "Z_hVA9m_fv4k",
        "outputId": "0af9a5f6-c8ba-4208-c3d2-ef530217ae99"
      },
      "source": [
        "#build a model\n",
        "r46network = models.Sequential()\n",
        "r46network.add(layers.Dense(512, activation='relu', input_shape=(r46max_words,)))\n",
        "r46network.add(layers.Dropout(0.5))\n",
        "r46network.add(layers.Dense(46,activation ='softmax'))\n",
        "\n",
        "\n",
        "\n",
        "#compile the model\n",
        "r46network.compile(optimizer= 'adam',\n",
        "                loss='categorical_crossentropy',\n",
        "                metrics=['accuracy'])\n",
        "\n",
        "#fit the model\n",
        "r46history = r46network.fit(\n",
        "      train_text, train_labels,\n",
        "      batch_size = 512,\n",
        "      epochs=20,\n",
        "      validation_split=0.1)"
      ],
      "execution_count": null,
      "outputs": [
        {
          "output_type": "stream",
          "name": "stdout",
          "text": [
            "Epoch 1/20\n",
            "16/16 [==============================] - 4s 231ms/step - loss: 2.4057 - accuracy: 0.5293 - val_loss: 1.6185 - val_accuracy: 0.6852\n",
            "Epoch 2/20\n",
            "16/16 [==============================] - 3s 216ms/step - loss: 1.1803 - accuracy: 0.7560 - val_loss: 1.1808 - val_accuracy: 0.7531\n",
            "Epoch 3/20\n",
            "16/16 [==============================] - 3s 211ms/step - loss: 0.7807 - accuracy: 0.8352 - val_loss: 1.0119 - val_accuracy: 0.7875\n",
            "Epoch 4/20\n",
            "16/16 [==============================] - 3s 213ms/step - loss: 0.5505 - accuracy: 0.8879 - val_loss: 0.9245 - val_accuracy: 0.7998\n",
            "Epoch 5/20\n",
            "16/16 [==============================] - 3s 213ms/step - loss: 0.3962 - accuracy: 0.9198 - val_loss: 0.8911 - val_accuracy: 0.8109\n",
            "Epoch 6/20\n",
            "16/16 [==============================] - 3s 213ms/step - loss: 0.3093 - accuracy: 0.9352 - val_loss: 0.8694 - val_accuracy: 0.8131\n",
            "Epoch 7/20\n",
            "16/16 [==============================] - 3s 213ms/step - loss: 0.2449 - accuracy: 0.9452 - val_loss: 0.8702 - val_accuracy: 0.8120\n",
            "Epoch 8/20\n",
            "16/16 [==============================] - 3s 213ms/step - loss: 0.2040 - accuracy: 0.9531 - val_loss: 0.8743 - val_accuracy: 0.8209\n",
            "Epoch 9/20\n",
            "16/16 [==============================] - 3s 213ms/step - loss: 0.1730 - accuracy: 0.9573 - val_loss: 0.8995 - val_accuracy: 0.8154\n",
            "Epoch 10/20\n",
            "16/16 [==============================] - 3s 212ms/step - loss: 0.1537 - accuracy: 0.9581 - val_loss: 0.8895 - val_accuracy: 0.8176\n",
            "Epoch 11/20\n",
            "16/16 [==============================] - 3s 215ms/step - loss: 0.1397 - accuracy: 0.9602 - val_loss: 0.9201 - val_accuracy: 0.8142\n",
            "Epoch 12/20\n",
            "16/16 [==============================] - 3s 213ms/step - loss: 0.1273 - accuracy: 0.9613 - val_loss: 0.9256 - val_accuracy: 0.8142\n",
            "Epoch 13/20\n",
            "16/16 [==============================] - 3s 211ms/step - loss: 0.1177 - accuracy: 0.9640 - val_loss: 0.9382 - val_accuracy: 0.8087\n",
            "Epoch 14/20\n",
            "16/16 [==============================] - 3s 213ms/step - loss: 0.1110 - accuracy: 0.9626 - val_loss: 0.9508 - val_accuracy: 0.8053\n",
            "Epoch 15/20\n",
            "16/16 [==============================] - 3s 214ms/step - loss: 0.1022 - accuracy: 0.9650 - val_loss: 0.9563 - val_accuracy: 0.8053\n",
            "Epoch 16/20\n",
            "16/16 [==============================] - 3s 213ms/step - loss: 0.1022 - accuracy: 0.9631 - val_loss: 0.9787 - val_accuracy: 0.8076\n",
            "Epoch 17/20\n",
            "16/16 [==============================] - 3s 214ms/step - loss: 0.0934 - accuracy: 0.9672 - val_loss: 0.9759 - val_accuracy: 0.8120\n",
            "Epoch 18/20\n",
            "16/16 [==============================] - 3s 213ms/step - loss: 0.0955 - accuracy: 0.9652 - val_loss: 0.9850 - val_accuracy: 0.8053\n",
            "Epoch 19/20\n",
            "16/16 [==============================] - 3s 215ms/step - loss: 0.0915 - accuracy: 0.9654 - val_loss: 0.9914 - val_accuracy: 0.8020\n",
            "Epoch 20/20\n",
            "16/16 [==============================] - 3s 215ms/step - loss: 0.0956 - accuracy: 0.9644 - val_loss: 1.0051 - val_accuracy: 0.8087\n"
          ]
        }
      ]
    },
    {
      "cell_type": "markdown",
      "metadata": {
        "id": "ySh5PYS4kCdF"
      },
      "source": [
        "#6.Plot the Accuracy/Loss of the Model"
      ]
    },
    {
      "cell_type": "code",
      "metadata": {
        "colab": {
          "base_uri": "https://localhost:8080/",
          "height": 544
        },
        "id": "UGaqKJdzjKyh",
        "outputId": "de729691-5c71-4b85-abff-a1d649699b9d"
      },
      "source": [
        "acc = r46history.history['accuracy']\n",
        "val_acc = r46history.history['val_accuracy']\n",
        "loss = r46history.history['loss']\n",
        "val_loss = r46history.history['val_loss']\n",
        "\n",
        "epochs = range(len(acc))\n",
        "\n",
        "plt.plot(epochs, acc, 'bo', label='Training acc')\n",
        "plt.plot(epochs, val_acc, 'b', label='Validation acc')\n",
        "plt.title('Training and validation accuracy')\n",
        "plt.legend()\n",
        "\n",
        "plt.figure()\n",
        "\n",
        "plt.plot(epochs, loss, 'bo', label='Training loss')\n",
        "plt.plot(epochs, val_loss, 'b', label='Validation loss')\n",
        "plt.title('Training and validation loss')\n",
        "plt.legend()\n",
        "\n",
        "plt.show()"
      ],
      "execution_count": null,
      "outputs": [
        {
          "output_type": "display_data",
          "data": {
            "image/png": "[encoded data removed]",
            "text/plain": [
              "<Figure size 432x288 with 1 Axes>"
            ]
          },
          "metadata": {
            "needs_background": "light"
          }
        },
        {
          "output_type": "display_data",
          "data": {
            "image/png": "[encoded data removed]",
            "text/plain": [
              "<Figure size 432x288 with 1 Axes>"
            ]
          },
          "metadata": {
            "needs_background": "light"
          }
        }
      ]
    },
    {
      "cell_type": "markdown",
      "metadata": {
        "id": "YfB-I5KTkMZW"
      },
      "source": [
        "#7.Evaluate the Model"
      ]
    },
    {
      "cell_type": "code",
      "metadata": {
        "colab": {
          "base_uri": "https://localhost:8080/"
        },
        "id": "73csi5MKjZbq",
        "outputId": "363c329f-ed22-4de0-8f6e-28e491648cb1"
      },
      "source": [
        "scoreSeg46 = r46network.evaluate(test_text, test_labels)\n",
        "print(\"Accuracy: \", scoreSeg46[1])"
      ],
      "execution_count": null,
      "outputs": [
        {
          "output_type": "stream",
          "name": "stdout",
          "text": [
            "71/71 [==============================] - 1s 12ms/step - loss: 0.9763 - accuracy: 0.8045\n",
            "Accuracy:  0.8045414090156555\n"
          ]
        }
      ]
    }
  ]
}